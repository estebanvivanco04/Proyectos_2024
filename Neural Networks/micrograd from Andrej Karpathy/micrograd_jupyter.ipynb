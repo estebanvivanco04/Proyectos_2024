{
 "cells": [
  {
   "cell_type": "code",
   "execution_count": 23,
   "metadata": {},
   "outputs": [],
   "source": [
    "import numpy as np\n",
    "import math\n",
    "import torch\n",
    "import tensorflow as tf"
   ]
  },
  {
   "cell_type": "code",
   "execution_count": 160,
   "metadata": {},
   "outputs": [],
   "source": [
    "class Value:\n",
    "  \n",
    "  def __init__(self, data, _children=(), _op='', label=''):\n",
    "    self.data = data\n",
    "    self.grad = 0.0\n",
    "    self._backward = lambda: None\n",
    "    self._prev = set(_children)\n",
    "    self._op = _op\n",
    "    self.label = label\n",
    "\n",
    "  def __repr__(self):\n",
    "    return f\"Value(data={self.data})\"\n",
    "  \n",
    "  def __add__(self, other):\n",
    "    other = other if isinstance(other, Value) else Value(other)\n",
    "    out = Value(self.data + other.data, (self, other), '+')\n",
    "    \n",
    "    def _backward():\n",
    "      self.grad += 1.0 * out.grad\n",
    "      other.grad += 1.0 * out.grad\n",
    "    out._backward = _backward\n",
    "    \n",
    "    return out\n",
    "\n",
    "  def __mul__(self, other):\n",
    "    other = other if isinstance(other, Value) else Value(other)\n",
    "    out = Value(self.data * other.data, (self, other), '*')\n",
    "    \n",
    "    def _backward():\n",
    "      self.grad += other.data * out.grad\n",
    "      other.grad += self.data * out.grad\n",
    "    out._backward = _backward\n",
    "      \n",
    "    return out\n",
    "  \n",
    "  def __pow__(self, other):\n",
    "    assert isinstance(other, (int, float)), \"only supporting int/float powers for now\"\n",
    "    out = Value(self.data**other, (self,), f'**{other}')\n",
    "\n",
    "    def _backward():\n",
    "        self.grad += other * (self.data ** (other - 1)) * out.grad\n",
    "    out._backward = _backward\n",
    "\n",
    "    return out\n",
    "  \n",
    "  def __rmul__(self, other): # other * self\n",
    "    return self * other\n",
    "\n",
    "  def __truediv__(self, other): # self / other\n",
    "    return self * other**-1\n",
    "\n",
    "  def __neg__(self): # -self\n",
    "    return self * -1\n",
    "\n",
    "  def __sub__(self, other): # self - other\n",
    "    return self + (-other)\n",
    "\n",
    "  def __radd__(self, other): # other + self\n",
    "    return self + other\n",
    "\n",
    "  def tanh(self):\n",
    "    x = self.data\n",
    "    t = (math.exp(2*x) - 1)/(math.exp(2*x) + 1)\n",
    "    out = Value(t, (self, ), 'tanh')\n",
    "    \n",
    "    def _backward():\n",
    "      self.grad += (1 - t**2) * out.grad\n",
    "    out._backward = _backward\n",
    "    \n",
    "    return out\n",
    "  \n",
    "  def exp(self):\n",
    "    x = self.data\n",
    "    out = Value(math.exp(x), (self, ), 'exp')\n",
    "    \n",
    "    def _backward():\n",
    "      self.grad += out.data * out.grad # NOTE: in the video I incorrectly used = instead of +=. Fixed here.\n",
    "    out._backward = _backward\n",
    "    \n",
    "    return out\n",
    "  \n",
    "  \n",
    "  def backward(self):\n",
    "    \n",
    "    topo = []\n",
    "    visited = set()\n",
    "    def build_topo(v):\n",
    "      if v not in visited:\n",
    "        visited.add(v)\n",
    "        for child in v._prev:\n",
    "          build_topo(child)\n",
    "        topo.append(v)\n",
    "    build_topo(self)\n",
    "    \n",
    "    self.grad = 1.0\n",
    "    for node in reversed(topo):\n",
    "      node._backward()\n",
    "\n",
    "\n",
    "c = Value(2.0)\n",
    "a = Value(5.0)\n",
    "d = a + c # a.__add__(c), en este caso, el objeto (a), se le suma otro objeto c\n",
    "# pero para eso tienen que estar definidos como objetos.\n",
    "\n",
    "# backprogration is the implementation of the chainrule\n",
    "# to get the final gradient from each weight, so we can manipulate the data of them\n",
    "# and get the result that we want\n",
    "\n",
    "# el mecanismo de _backward es el siguiente:\n",
    "# agarra y distribuye el gradiente del resultado, hacia sus hijos.\n",
    "# lo hace dependiendo la operacion matematica.\n",
    "# pero cuando llamamamos out._backward lo que pasa es que \n",
    "# ._backward busca los hijos de out, y calcula el gradiente y se los inserta.\n"
   ]
  },
  {
   "cell_type": "code",
   "execution_count": 161,
   "metadata": {},
   "outputs": [],
   "source": [
    "# inputs x1, x2\n",
    "x1 = Value(2.0)\n",
    "x2= Value(0.0)\n",
    "#weights w1 w2\n",
    "w1 = Value(-3.0)\n",
    "w2 = Value(1.0)\n",
    "# bias of the neuron\n",
    "b = Value(6.7)\n",
    "# x1w1 +x2w2 + b, lo hace separado para tener a mano las variables desmenuzadas\n",
    "x1w1 = x1*w1\n",
    "x2w2 = x2*w2\n",
    "x1w1x2w2 = x1w1 + x2w2\n",
    "x2.data\n",
    "x2\n",
    "# the sum\n",
    "n = x1w1x2w2 + b\n",
    "# luego va a estar L\n",
    "e = (2*n).exp()\n",
    "L = (e-1)/(e+1)"
   ]
  },
  {
   "cell_type": "code",
   "execution_count": 162,
   "metadata": {},
   "outputs": [
    {
     "name": "stdout",
     "output_type": "stream",
     "text": [
      "0.7071066904050358\n",
      "---\n",
      "x2 0.5000001283844369\n",
      "w2 0.0\n",
      "x1 -1.5000003851533106\n",
      "w1 1.0000002567688737\n"
     ]
    }
   ],
   "source": [
    "x1 = torch.Tensor([2.0]).double()                ; x1.requires_grad = True\n",
    "x2 = torch.Tensor([0.0]).double()                ; x2.requires_grad = True\n",
    "w1 = torch.Tensor([-3.0]).double()               ; w1.requires_grad = True\n",
    "w2 = torch.Tensor([1.0]).double()                ; w2.requires_grad = True\n",
    "b = torch.Tensor([6.8813735870195432]).double()  ; b.requires_grad = True\n",
    "n = x1*w1 + x2*w2 + b\n",
    "o = torch.tanh(n)\n",
    "\n",
    "print(o.data.item())\n",
    "o.backward()\n",
    "\n",
    "print('---')\n",
    "print('x2', x2.grad.item())\n",
    "print('w2', w2.grad.item())\n",
    "print('x1', x1.grad.item())\n",
    "print('w1', w1.grad.item())\n"
   ]
  },
  {
   "cell_type": "code",
   "execution_count": 163,
   "metadata": {},
   "outputs": [],
   "source": [
    "import random\n",
    "\n",
    "class Neuron:\n",
    "    def __init__(self, nin):\n",
    "        self.w = [Value(random.uniform(-1,1)) for _ in range(nin)]# random.uniform(1,-1) devuelve un numero random entre esos valores, y el loop lo hace hasta la cantidad de nin (number of inputs)\n",
    "        self.b = Value(random.uniform(-1,1)) # aca queremos un numero random entre 1 y -1 como bias, a los dos self.w, self.b los encerramos en Value\n",
    "        # aca lo que va a pasar es que cuando tengamos una neurona, vamos a poder ver sus weights y su bias usando self.w y self.b\n",
    "    # una neurona tiene nin weights y un solo bias, y la neurona es la suma del producto entre los inputs y los weight más el bias.\n",
    "    def __call__(self, x): # call is a built in funtion, it returns the x\n",
    "        act = sum((wi*xi for wi, xi in zip(self.w, x)), self.b)\n",
    "        out = act.tanh()\n",
    "        return out\n",
    "    def parameters(self):\n",
    "        return self.w + [self.b] # una lista de Values, con .grad y .data\n",
    "\n",
    "class Layer:\n",
    "    def __init__(self, nin, nout):\n",
    "        self.neurons = [Neuron(nin) for _ in range(nout)]\n",
    "\n",
    "    def __call__(self, x):\n",
    "        outs = [n(x) for n in self.neurons] # aca puede estar el error con Neuron(x)\n",
    "        return outs[0] if len(self.neurons) == 1 else outs\n",
    "\n",
    "    def parameters(self):\n",
    "        params = []\n",
    "        for neuron in self.neurons:\n",
    "            params.extend(neuron.parameters())\n",
    "        return params\n",
    "        # return [p for neuron in self.neurons for p in neuron.parameters()] es otra forma de hacerlo tambien.\n",
    "        \n",
    "class MLP:\n",
    "    def __init__(self, nin, nouts):\n",
    "        sz = [nin] + nouts\n",
    "        self.layers  = [Layer(sz[i], sz[i+1]) for i in range(len(nouts))]\n",
    "    def __call__(self, x):\n",
    "        for layer in self.layers:\n",
    "            x = layer(x)\n",
    "        return x\n",
    "    def parameters(self):\n",
    "        return [p for layer in self.layers for p in layer.parameters()]"
   ]
  },
  {
   "cell_type": "code",
   "execution_count": 250,
   "metadata": {},
   "outputs": [],
   "source": [
    "n = MLP(3,[4,4,1])"
   ]
  },
  {
   "cell_type": "code",
   "execution_count": 251,
   "metadata": {},
   "outputs": [],
   "source": [
    "xs = [\n",
    "    [1.0, 3.0 , -2.0],\n",
    "    [2.0, -3.0 , -1.0],\n",
    "    [-1.0, 4.0 , -1.0],\n",
    "    [2.0, -1.0 , 2.0]\n",
    "]\n",
    "ys = [1.0, -1.0 , -1.0, 1.0]"
   ]
  },
  {
   "cell_type": "code",
   "execution_count": 252,
   "metadata": {},
   "outputs": [
    {
     "name": "stdout",
     "output_type": "stream",
     "text": [
      "0 6.96259472502544\n",
      "1 2.902523465127536\n",
      "2 0.38703656694649125\n",
      "3 2.1251900437111844\n",
      "4 0.17645565901959162\n",
      "5 0.5475034783785049\n",
      "6 0.15831778336241756\n",
      "7 2.292336926009287\n",
      "8 0.5049343882823522\n",
      "9 0.022413440428784088\n",
      "10 0.1685684637798484\n",
      "11 0.44594039073880143\n",
      "12 0.05689450931710563\n",
      "13 0.02848399014780882\n",
      "14 4.01577742222443\n",
      "15 0.035853226640015994\n",
      "16 0.0009118074075504345\n",
      "17 0.00018034660238233082\n",
      "18 3.6513845986803832\n",
      "19 1.1950851266459446e-06\n"
     ]
    }
   ],
   "source": [
    "for k in range(20):\n",
    "    #foward pass\n",
    "    ypred = [n(x) for x in xs] # son los 4 outputs individuales\n",
    "    loss = sum((yout - ygt)**2 for ygt, yout in zip (ys,ypred))\n",
    "\n",
    "    #backward pass. Osea vamos a calcular el gradiente de todos los weighs and biases con respecto al resultado final\n",
    "    loss.backward()\n",
    "    \n",
    "    #gradient descent, changing the a little to improve results.\n",
    "    # changin in direction of the negative gradient of the parameters with respect to the result\n",
    "    for p in n.parameters():\n",
    "        p.data += -0.05 * p.grad # mueve un poco a cada weight en direccion hacia el punto de menor loss, osea punto bajo.\n",
    "    \n",
    "    print(k ,loss.data)\n",
    "    \n",
    "    \n",
    "    \n",
    "\n",
    "    "
   ]
  },
  {
   "cell_type": "code",
   "execution_count": 253,
   "metadata": {},
   "outputs": [
    {
     "data": {
      "text/plain": [
       "Value(data=1.1950851266459446e-06)"
      ]
     },
     "execution_count": 253,
     "metadata": {},
     "output_type": "execute_result"
    }
   ],
   "source": [
    "loss"
   ]
  },
  {
   "cell_type": "code",
   "execution_count": 254,
   "metadata": {},
   "outputs": [
    {
     "data": {
      "text/plain": [
       "[Value(data=0.999876161725799),\n",
       " Value(data=-0.9999999607160655),\n",
       " Value(data=-0.999939913229783),\n",
       " Value(data=0.998915500674509)]"
      ]
     },
     "execution_count": 254,
     "metadata": {},
     "output_type": "execute_result"
    }
   ],
   "source": [
    "ypred"
   ]
  }
 ],
 "metadata": {
  "kernelspec": {
   "display_name": "Python 3",
   "language": "python",
   "name": "python3"
  },
  "language_info": {
   "codemirror_mode": {
    "name": "ipython",
    "version": 3
   },
   "file_extension": ".py",
   "mimetype": "text/x-python",
   "name": "python",
   "nbconvert_exporter": "python",
   "pygments_lexer": "ipython3",
   "version": "3.8.3"
  }
 },
 "nbformat": 4,
 "nbformat_minor": 2
}
